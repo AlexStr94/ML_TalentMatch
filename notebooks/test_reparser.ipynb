{
 "cells": [
  {
   "cell_type": "code",
   "outputs": [],
   "source": [
    "import os\n",
    "os.chdir('../')"
   ],
   "metadata": {
    "collapsed": false,
    "ExecuteTime": {
     "end_time": "2024-02-29T10:51:04.498265795Z",
     "start_time": "2024-02-29T10:51:04.497601588Z"
    }
   },
   "id": "199382b52a6a12fe",
   "execution_count": 1
  },
  {
   "cell_type": "markdown",
   "source": [
    "## resume_parser"
   ],
   "metadata": {
    "collapsed": false
   },
   "id": "6003da2701ca7bb8"
  },
  {
   "cell_type": "code",
   "execution_count": 2,
   "id": "initial_id",
   "metadata": {
    "collapsed": true,
    "ExecuteTime": {
     "end_time": "2024-02-29T10:52:28.506170099Z",
     "start_time": "2024-02-29T10:51:05.187168422Z"
    }
   },
   "outputs": [
    {
     "name": "stderr",
     "output_type": "stream",
     "text": [
      "/home/gregory1m/PycharmProjects/hr-tech-hack/venv/lib/python3.11/site-packages/spacy/util.py:275: UserWarning: [W031] Model 'en_training' (0.0.0) requires spaCy v2.2 and is incompatible with the current spaCy version (2.3.9). This may lead to unexpected results or runtime errors. To resolve this, download a newer compatible model or retrain your custom model with the current spaCy version. For more details and available updates, run: python -m spacy validate\n",
      "  warnings.warn(warn_msg)\n"
     ]
    }
   ],
   "source": [
    "from resume_parser import resumeparse"
   ]
  },
  {
   "cell_type": "code",
   "outputs": [
    {
     "name": "stderr",
     "output_type": "stream",
     "text": [
      "2024-02-29 13:53:08,729 [MainThread  ] [INFO ]  Retrieving http://search.maven.org/remotecontent?filepath=org/apache/tika/tika-server-standard/2.6.0/tika-server-standard-2.6.0.jar to /tmp/tika-server.jar.\n",
      "INFO:tika.tika:Retrieving http://search.maven.org/remotecontent?filepath=org/apache/tika/tika-server-standard/2.6.0/tika-server-standard-2.6.0.jar to /tmp/tika-server.jar.\n",
      "2024-02-29 13:53:29,742 [MainThread  ] [INFO ]  Retrieving http://search.maven.org/remotecontent?filepath=org/apache/tika/tika-server-standard/2.6.0/tika-server-standard-2.6.0.jar.md5 to /tmp/tika-server.jar.md5.\n",
      "INFO:tika.tika:Retrieving http://search.maven.org/remotecontent?filepath=org/apache/tika/tika-server-standard/2.6.0/tika-server-standard-2.6.0.jar.md5 to /tmp/tika-server.jar.md5.\n",
      "2024-02-29 13:53:30,782 [MainThread  ] [ERROR]  Unable to run java; is it installed?\n",
      "ERROR:tika.tika:Unable to run java; is it installed?\n",
      "2024-02-29 13:53:30,783 [MainThread  ] [ERROR]  Failed to receive startup confirmation from startServer.\n",
      "ERROR:tika.tika:Failed to receive startup confirmation from startServer.\n",
      "ERROR:root:Error in tika installation:: Unable to start Tika server.\n",
      "ERROR:root:--------------------------\n",
      "ERROR:root:Install java for better result \n"
     ]
    }
   ],
   "source": [
    "data = resumeparse.read_file('data/docs/Akhundov Damat.pdf')"
   ],
   "metadata": {
    "collapsed": false,
    "ExecuteTime": {
     "end_time": "2024-02-29T10:53:31.931237111Z",
     "start_time": "2024-02-29T10:53:08.728939922Z"
    }
   },
   "id": "3869dcba9dcdca46",
   "execution_count": 6
  },
  {
   "cell_type": "code",
   "outputs": [
    {
     "data": {
      "text/plain": "dict_keys(['email', 'phone', 'name', 'total_exp', 'university', 'designition', 'degree', 'skills', 'Companies worked at'])"
     },
     "execution_count": 9,
     "metadata": {},
     "output_type": "execute_result"
    }
   ],
   "source": [
    "data.keys()"
   ],
   "metadata": {
    "collapsed": false,
    "ExecuteTime": {
     "end_time": "2024-02-29T10:53:59.576351712Z",
     "start_time": "2024-02-29T10:53:59.554262220Z"
    }
   },
   "id": "f7d237c3cda5a176",
   "execution_count": 9
  },
  {
   "cell_type": "code",
   "outputs": [
    {
     "name": "stdout",
     "output_type": "stream",
     "text": [
      "akhundov1damat@gmail.com\n",
      "(+994)51000-60-17\n",
      "Akhundov Damat\n",
      "5\n",
      "[]\n",
      "['backend developer', 'devops']\n",
      "[]\n",
      "['DevOps Docker', 'DockerCompose', 'Frameworks DjangoRESTFramework', 'Django', 'FastAPI', 'RESTAPI', 'Methodologies TestDrivenDevelopment', 'DomainDrivenDevelopment', 'Principles SOLID', 'YAGNI', 'DRY', 'Databases Postgres', 'Redis', 'Cassandra Python', 'C English', 'Russian', 'Azerbaijani']\n",
      "[]\n"
     ]
    }
   ],
   "source": [
    "for key in data.keys():\n",
    "    print(data[key])"
   ],
   "metadata": {
    "collapsed": false,
    "ExecuteTime": {
     "end_time": "2024-02-29T11:06:58.964599959Z",
     "start_time": "2024-02-29T11:06:58.923162445Z"
    }
   },
   "id": "e61211152cf9e7dc",
   "execution_count": 18
  },
  {
   "cell_type": "markdown",
   "source": [
    "## pyresparser"
   ],
   "metadata": {
    "collapsed": false
   },
   "id": "e52bccebf05c9850"
  },
  {
   "cell_type": "code",
   "outputs": [],
   "source": [
    "from pyresparser import ResumeParser"
   ],
   "metadata": {
    "collapsed": false,
    "ExecuteTime": {
     "end_time": "2024-02-29T11:34:54.367982133Z",
     "start_time": "2024-02-29T11:34:54.316259623Z"
    }
   },
   "id": "4646cef61bd2ab7b",
   "execution_count": 19
  },
  {
   "cell_type": "code",
   "outputs": [
    {
     "name": "stderr",
     "output_type": "stream",
     "text": [
      "/home/gregory1m/PycharmProjects/hr-tech-hack/venv/lib/python3.11/site-packages/spacy/util.py:275: UserWarning: [W031] Model 'en_training' (0.0.0) requires spaCy v2.1 and is incompatible with the current spaCy version (2.3.9). This may lead to unexpected results or runtime errors. To resolve this, download a newer compatible model or retrain your custom model with the current spaCy version. For more details and available updates, run: python -m spacy validate\n",
      "  warnings.warn(warn_msg)\n"
     ]
    }
   ],
   "source": [
    "data = ResumeParser('data/docs/Akhundov Damat.pdf').get_extracted_data()"
   ],
   "metadata": {
    "collapsed": false,
    "ExecuteTime": {
     "end_time": "2024-02-29T11:36:15.638877404Z",
     "start_time": "2024-02-29T11:36:14.391151771Z"
    }
   },
   "id": "eeeef57f4a476d60",
   "execution_count": 24
  },
  {
   "cell_type": "code",
   "outputs": [
    {
     "data": {
      "text/plain": "dict_keys(['name', 'email', 'mobile_number', 'skills', 'college_name', 'degree', 'designation', 'experience', 'company_names', 'no_of_pages', 'total_experience'])"
     },
     "execution_count": 25,
     "metadata": {},
     "output_type": "execute_result"
    }
   ],
   "source": [
    "data.keys()"
   ],
   "metadata": {
    "collapsed": false,
    "ExecuteTime": {
     "end_time": "2024-02-29T11:36:20.820670275Z",
     "start_time": "2024-02-29T11:36:20.784013143Z"
    }
   },
   "id": "d91ebf518b12260d",
   "execution_count": 25
  },
  {
   "cell_type": "code",
   "outputs": [
    {
     "name": "stdout",
     "output_type": "stream",
     "text": [
      "Akhundov Damat\n",
      "akhundov1damat@gmail.com\n",
      "None\n",
      "['System', 'English', 'Rest', 'Celery', 'Api', 'Opencv', 'Python', 'Programming', 'Docker', 'Architecture', 'Database', 'Linux', 'Django', 'C', 'Training']\n",
      "None\n",
      "['B.S. IN INFORMATION TECHNOLOGIES\\nAND MANAGEMENT']\n",
      "['Online Gymnasium']\n",
      "['Online Gymnasium', 'MiDDLE BACKEND DEVELoPER', '• Developed database structure via Django ORM.', '• Worked with Celery tasks. Applied best practises.', '• Implemented integration between BigBlueButton', 'and Django REST Framework.', '• Used Test Driven Development.', '• Built structure of the project via style guide.', '• Implemented RESTful API microservice.', '• Worked with Docker and Docker Compose.', '• Realised ORM optimization.', '• Developed an application for converting files from', 'two services (JOD Converter and CloudConvert)', 'Freelance', 'JUNIOR BACKEND DEVELOPER', '• Developed payment', 'system.', '• Worked with OpenCV on', 'Python.', '• Realized authentication', 'system for FastAPI.']\n",
      "['Principles SOLID']\n",
      "2\n",
      "0.0\n"
     ]
    }
   ],
   "source": [
    "for key in data.keys():\n",
    "    print(data[key])"
   ],
   "metadata": {
    "collapsed": false,
    "ExecuteTime": {
     "end_time": "2024-02-29T11:36:26.125161801Z",
     "start_time": "2024-02-29T11:36:26.096833314Z"
    }
   },
   "id": "fde25d84ddf882d6",
   "execution_count": 26
  },
  {
   "cell_type": "code",
   "outputs": [],
   "source": [],
   "metadata": {
    "collapsed": false
   },
   "id": "3818292f229b621e"
  }
 ],
 "metadata": {
  "kernelspec": {
   "display_name": "Python 3",
   "language": "python",
   "name": "python3"
  },
  "language_info": {
   "codemirror_mode": {
    "name": "ipython",
    "version": 2
   },
   "file_extension": ".py",
   "mimetype": "text/x-python",
   "name": "python",
   "nbconvert_exporter": "python",
   "pygments_lexer": "ipython2",
   "version": "2.7.6"
  }
 },
 "nbformat": 4,
 "nbformat_minor": 5
}
